{
  "nbformat": 4,
  "nbformat_minor": 0,
  "metadata": {
    "colab": {
      "provenance": []
    },
    "kernelspec": {
      "name": "python3",
      "display_name": "Python 3"
    },
    "language_info": {
      "name": "python"
    }
  },
  "cells": [
    {
      "cell_type": "code",
      "execution_count": 26,
      "metadata": {
        "id": "JbPtuSzKnqo_"
      },
      "outputs": [],
      "source": [
        "from sklearn.datasets import load_iris\n",
        "from sklearn.svm import SVC\n",
        "from sklearn.linear_model import LogisticRegression\n",
        "from sklearn.tree import DecisionTreeClassifier\n",
        "from sklearn.ensemble import RandomForestClassifier\n",
        "from sklearn.model_selection import StratifiedKFold\n",
        "from sklearn.model_selection import cross_val_score\n",
        "import numpy as np"
      ]
    },
    {
      "cell_type": "code",
      "source": [
        "iris = load_iris()"
      ],
      "metadata": {
        "id": "XqeCwtmyoWLj"
      },
      "execution_count": 27,
      "outputs": []
    },
    {
      "cell_type": "code",
      "source": [
        "skf = StratifiedKFold(shuffle=True, n_splits=4)"
      ],
      "metadata": {
        "id": "dioij-Vwolkt"
      },
      "execution_count": 28,
      "outputs": []
    },
    {
      "cell_type": "code",
      "source": [
        "from sklearn import metrics\n",
        "lr = cross_val_score(LogisticRegression(max_iter=10000), iris.data,iris.target, cv = skf, scoring='accuracy')"
      ],
      "metadata": {
        "id": "ECtfPhFZp3ws"
      },
      "execution_count": 29,
      "outputs": []
    },
    {
      "cell_type": "code",
      "source": [
        "lr"
      ],
      "metadata": {
        "colab": {
          "base_uri": "https://localhost:8080/"
        },
        "id": "oKnFQT9YrPLM",
        "outputId": "2b8279d0-9b10-4ba5-eba2-521c3c320106"
      },
      "execution_count": 30,
      "outputs": [
        {
          "output_type": "execute_result",
          "data": {
            "text/plain": [
              "array([0.89473684, 0.97368421, 0.97297297, 1.        ])"
            ]
          },
          "metadata": {},
          "execution_count": 30
        }
      ]
    },
    {
      "cell_type": "code",
      "source": [
        "print(f\"The mean of the cross_val_score using logistic regression is {np.mean(lr)}.\")"
      ],
      "metadata": {
        "colab": {
          "base_uri": "https://localhost:8080/"
        },
        "id": "8ZKT_mJMq5KQ",
        "outputId": "0debb315-6c3f-4ff7-bfab-3582fa9cd02d"
      },
      "execution_count": 31,
      "outputs": [
        {
          "output_type": "stream",
          "name": "stdout",
          "text": [
            "The mean of the cross_val_score using logistic regression is 0.960348506401138.\n"
          ]
        }
      ]
    },
    {
      "cell_type": "code",
      "source": [
        "tree = cross_val_score(DecisionTreeClassifier(), iris.data,iris.target, cv = skf, scoring='accuracy')\n",
        "tree"
      ],
      "metadata": {
        "colab": {
          "base_uri": "https://localhost:8080/"
        },
        "id": "8YkHwcdwrSfW",
        "outputId": "1b7918b0-df90-47e8-de76-d0cce9b0886b"
      },
      "execution_count": 32,
      "outputs": [
        {
          "output_type": "execute_result",
          "data": {
            "text/plain": [
              "array([0.94736842, 0.97368421, 0.86486486, 0.91891892])"
            ]
          },
          "metadata": {},
          "execution_count": 32
        }
      ]
    },
    {
      "cell_type": "code",
      "source": [
        "print(f\"The mean of the cross_val_score using decision tree is {np.mean(tree)}.\")"
      ],
      "metadata": {
        "colab": {
          "base_uri": "https://localhost:8080/"
        },
        "id": "spjLAExqrdsg",
        "outputId": "10173078-1a0d-4f3b-bb8d-cad1bc35fcbe"
      },
      "execution_count": 33,
      "outputs": [
        {
          "output_type": "stream",
          "name": "stdout",
          "text": [
            "The mean of the cross_val_score using decision tree is 0.9262091038406828.\n"
          ]
        }
      ]
    },
    {
      "cell_type": "code",
      "source": [
        "rf = cross_val_score(RandomForestClassifier(), iris.data,iris.target, cv = skf, scoring='accuracy')\n",
        "rf"
      ],
      "metadata": {
        "colab": {
          "base_uri": "https://localhost:8080/"
        },
        "id": "KWC9zUh0rohy",
        "outputId": "9dd3248b-9798-49a7-caae-faf731597877"
      },
      "execution_count": 34,
      "outputs": [
        {
          "output_type": "execute_result",
          "data": {
            "text/plain": [
              "array([0.94736842, 0.97368421, 1.        , 0.86486486])"
            ]
          },
          "metadata": {},
          "execution_count": 34
        }
      ]
    },
    {
      "cell_type": "code",
      "source": [
        "print(f\"The mean of the cross_val_score using random forest is {np.mean(rf)}.\")"
      ],
      "metadata": {
        "colab": {
          "base_uri": "https://localhost:8080/"
        },
        "id": "_Fdvk3S7rvXo",
        "outputId": "d7891c4d-a04b-4e7a-f0fc-55c4a079f299"
      },
      "execution_count": 35,
      "outputs": [
        {
          "output_type": "stream",
          "name": "stdout",
          "text": [
            "The mean of the cross_val_score using random forest is 0.9464793741109531.\n"
          ]
        }
      ]
    },
    {
      "cell_type": "code",
      "source": [
        "svm = cross_val_score(SVC(), iris.data,iris.target, cv = skf, scoring='accuracy')\n",
        "svm"
      ],
      "metadata": {
        "colab": {
          "base_uri": "https://localhost:8080/"
        },
        "id": "UsSJ6XClr0V2",
        "outputId": "8d7a76a9-0a97-4a79-deb9-359ab7b48639"
      },
      "execution_count": 36,
      "outputs": [
        {
          "output_type": "execute_result",
          "data": {
            "text/plain": [
              "array([1.        , 0.92105263, 1.        , 0.97297297])"
            ]
          },
          "metadata": {},
          "execution_count": 36
        }
      ]
    },
    {
      "cell_type": "code",
      "source": [
        "print(f\"The mean of the cross_val_score using svm is {np.mean(svm)}.\")"
      ],
      "metadata": {
        "colab": {
          "base_uri": "https://localhost:8080/"
        },
        "id": "9uhqi4Ebr7fV",
        "outputId": "36e62e17-012c-4361-b6b2-65121f73194e"
      },
      "execution_count": 37,
      "outputs": [
        {
          "output_type": "stream",
          "name": "stdout",
          "text": [
            "The mean of the cross_val_score using svm is 0.9735064011379801.\n"
          ]
        }
      ]
    }
  ]
}